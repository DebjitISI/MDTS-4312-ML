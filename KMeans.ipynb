{
 "cells": [
  {
   "cell_type": "code",
   "execution_count": 1,
   "id": "1f8d5cc1-2bf5-439b-b1bc-e3500ce0e4ca",
   "metadata": {},
   "outputs": [],
   "source": [
    "import numpy as np\n",
    "import pandas as pd"
   ]
  },
  {
   "cell_type": "code",
   "execution_count": 2,
   "id": "c15d077b-a377-4e64-8f15-7bcc44903af1",
   "metadata": {},
   "outputs": [],
   "source": [
    "data = pd.read_csv('KMeansDataset.csv')"
   ]
  },
  {
   "cell_type": "code",
   "execution_count": 3,
   "id": "7e05efaa-ddbf-42e6-a90f-95bf653cb963",
   "metadata": {},
   "outputs": [
    {
     "data": {
      "text/html": [
       "<div>\n",
       "<style scoped>\n",
       "    .dataframe tbody tr th:only-of-type {\n",
       "        vertical-align: middle;\n",
       "    }\n",
       "\n",
       "    .dataframe tbody tr th {\n",
       "        vertical-align: top;\n",
       "    }\n",
       "\n",
       "    .dataframe thead th {\n",
       "        text-align: right;\n",
       "    }\n",
       "</style>\n",
       "<table border=\"1\" class=\"dataframe\">\n",
       "  <thead>\n",
       "    <tr style=\"text-align: right;\">\n",
       "      <th></th>\n",
       "      <th>Feature1</th>\n",
       "      <th>Feature2</th>\n",
       "    </tr>\n",
       "  </thead>\n",
       "  <tbody>\n",
       "    <tr>\n",
       "      <th>0</th>\n",
       "      <td>1.149014</td>\n",
       "      <td>1.958521</td>\n",
       "    </tr>\n",
       "    <tr>\n",
       "      <th>1</th>\n",
       "      <td>1.194307</td>\n",
       "      <td>2.456909</td>\n",
       "    </tr>\n",
       "    <tr>\n",
       "      <th>2</th>\n",
       "      <td>0.929754</td>\n",
       "      <td>1.929759</td>\n",
       "    </tr>\n",
       "    <tr>\n",
       "      <th>3</th>\n",
       "      <td>1.473764</td>\n",
       "      <td>2.230230</td>\n",
       "    </tr>\n",
       "    <tr>\n",
       "      <th>4</th>\n",
       "      <td>0.859158</td>\n",
       "      <td>2.162768</td>\n",
       "    </tr>\n",
       "    <tr>\n",
       "      <th>...</th>\n",
       "      <td>...</td>\n",
       "      <td>...</td>\n",
       "    </tr>\n",
       "    <tr>\n",
       "      <th>95</th>\n",
       "      <td>8.866046</td>\n",
       "      <td>2.256920</td>\n",
       "    </tr>\n",
       "    <tr>\n",
       "      <th>96</th>\n",
       "      <td>9.064228</td>\n",
       "      <td>1.626278</td>\n",
       "    </tr>\n",
       "    <tr>\n",
       "      <th>97</th>\n",
       "      <td>9.051954</td>\n",
       "      <td>2.115595</td>\n",
       "    </tr>\n",
       "    <tr>\n",
       "      <th>98</th>\n",
       "      <td>8.734843</td>\n",
       "      <td>2.046118</td>\n",
       "    </tr>\n",
       "    <tr>\n",
       "      <th>99</th>\n",
       "      <td>9.017463</td>\n",
       "      <td>1.657109</td>\n",
       "    </tr>\n",
       "  </tbody>\n",
       "</table>\n",
       "<p>100 rows × 2 columns</p>\n",
       "</div>"
      ],
      "text/plain": [
       "    Feature1  Feature2\n",
       "0   1.149014  1.958521\n",
       "1   1.194307  2.456909\n",
       "2   0.929754  1.929759\n",
       "3   1.473764  2.230230\n",
       "4   0.859158  2.162768\n",
       "..       ...       ...\n",
       "95  8.866046  2.256920\n",
       "96  9.064228  1.626278\n",
       "97  9.051954  2.115595\n",
       "98  8.734843  2.046118\n",
       "99  9.017463  1.657109\n",
       "\n",
       "[100 rows x 2 columns]"
      ]
     },
     "execution_count": 3,
     "metadata": {},
     "output_type": "execute_result"
    }
   ],
   "source": [
    "data"
   ]
  },
  {
   "cell_type": "code",
   "execution_count": 8,
   "id": "d778f352-50a9-49d7-97ee-ccdc3fb89c28",
   "metadata": {},
   "outputs": [],
   "source": [
    "df = data.iloc[np.random.permutation(len(data))].reset_index(drop=True)\n",
    "k=3"
   ]
  },
  {
   "cell_type": "code",
   "execution_count": 14,
   "id": "1bd46df4-dd46-4d19-82f0-5158c561bd28",
   "metadata": {},
   "outputs": [],
   "source": [
    "c1 = df.iloc[0].values"
   ]
  },
  {
   "cell_type": "code",
   "execution_count": 16,
   "id": "8d0825e2-1bf1-4af8-9eed-63cdb9f4efa5",
   "metadata": {},
   "outputs": [
    {
     "data": {
      "text/plain": [
       "np.float64(1.0725886814698102)"
      ]
     },
     "execution_count": 16,
     "metadata": {},
     "output_type": "execute_result"
    }
   ],
   "source": [
    "c1[0]"
   ]
  },
  {
   "cell_type": "code",
   "execution_count": 17,
   "id": "cd346be4-7181-4079-81ba-f5e57506fd3f",
   "metadata": {},
   "outputs": [],
   "source": [
    "dist = [(df.iloc[i].values[0] - c1[0])**2 + (df.iloc[i].values[1] - c1[1])**2 for i in range(1,len(data))]"
   ]
  },
  {
   "cell_type": "code",
   "execution_count": 19,
   "id": "92dde99c-5818-4037-889d-a03810c1b7c1",
   "metadata": {},
   "outputs": [],
   "source": [
    "tot_dist = np.sum(dist)"
   ]
  },
  {
   "cell_type": "code",
   "execution_count": 20,
   "id": "ba71abe6-0333-42b0-a9b3-fbd0eac7a781",
   "metadata": {},
   "outputs": [
    {
     "data": {
      "text/plain": [
       "np.float64(4229.233998948601)"
      ]
     },
     "execution_count": 20,
     "metadata": {},
     "output_type": "execute_result"
    }
   ],
   "source": [
    "tot_dist"
   ]
  },
  {
   "cell_type": "code",
   "execution_count": 21,
   "id": "623bddb2-bbe4-4440-97d5-80eb78895538",
   "metadata": {},
   "outputs": [],
   "source": [
    "prob = dist/tot_dist"
   ]
  },
  {
   "cell_type": "code",
   "execution_count": 22,
   "id": "5cd930c8-aabb-4aa1-b20c-4e0a1928fb6e",
   "metadata": {},
   "outputs": [
    {
     "data": {
      "text/plain": [
       "array([1.73764369e-05, 1.39256763e-02, 4.96281368e-05, 1.73745480e-02,\n",
       "       1.69660172e-05, 6.84289900e-05, 4.98416425e-05, 3.34836400e-05,\n",
       "       1.21166594e-04, 1.63125127e-02, 1.39116546e-04, 5.80317542e-05,\n",
       "       1.60777522e-02, 1.52863603e-02, 1.55951221e-02, 1.52788253e-04,\n",
       "       1.45332080e-02, 2.34410653e-04, 1.37309494e-02, 1.49474424e-02,\n",
       "       1.44522056e-02, 1.53076821e-02, 6.91091804e-08, 1.46391694e-02,\n",
       "       1.31417519e-02, 1.45247036e-02, 1.52214166e-02, 9.33010588e-05,\n",
       "       3.16891587e-04, 1.50110996e-02, 1.46133089e-02, 1.90980793e-04,\n",
       "       1.47560267e-02, 1.37019984e-02, 7.45818699e-05, 1.50201017e-02,\n",
       "       1.39097222e-04, 1.53639605e-04, 1.57658280e-02, 5.72637348e-06,\n",
       "       1.38099163e-02, 1.41197827e-02, 1.52511133e-02, 7.96310899e-05,\n",
       "       1.50167088e-02, 1.98268650e-04, 1.39729000e-02, 1.57983164e-02,\n",
       "       1.71530957e-02, 9.24652168e-05, 6.48246813e-05, 1.65681391e-02,\n",
       "       1.39014614e-02, 1.35082840e-02, 1.53320242e-02, 9.77256970e-05,\n",
       "       1.40985780e-02, 2.54787435e-04, 1.51106338e-02, 1.36903210e-02,\n",
       "       1.61072325e-02, 1.63424579e-02, 1.39062627e-02, 1.57552930e-02,\n",
       "       7.00255115e-07, 1.53506933e-02, 1.77761695e-04, 1.39947932e-02,\n",
       "       1.62774935e-02, 1.85440037e-04, 1.40454369e-02, 7.10664680e-05,\n",
       "       1.50523955e-02, 1.49375574e-02, 1.55561574e-02, 1.53370111e-02,\n",
       "       1.45109516e-02, 1.51672371e-02, 1.36186389e-02, 5.51794246e-05,\n",
       "       1.51152426e-02, 1.41350423e-02, 1.00352972e-04, 1.32911906e-02,\n",
       "       1.42023984e-02, 1.39386013e-02, 1.37708948e-02, 1.44906919e-02,\n",
       "       1.48809635e-02, 1.47219486e-04, 1.51331327e-02, 1.73179426e-02,\n",
       "       1.46314439e-02, 1.38015505e-02, 1.62163878e-02, 1.38970508e-02,\n",
       "       1.54684723e-02, 1.32001714e-02, 1.58381224e-02])"
      ]
     },
     "execution_count": 22,
     "metadata": {},
     "output_type": "execute_result"
    }
   ],
   "source": [
    "prob"
   ]
  },
  {
   "cell_type": "code",
   "execution_count": 24,
   "id": "21a45d10-da13-4af9-a5c4-a2ae55f12a79",
   "metadata": {},
   "outputs": [],
   "source": [
    "c2 = df.iloc[np.argmax(prob)].values"
   ]
  },
  {
   "cell_type": "code",
   "execution_count": 25,
   "id": "3c5a02dd-a855-4b7f-abf5-9a3e52d60197",
   "metadata": {},
   "outputs": [
    {
     "data": {
      "text/plain": [
       "array([0.66809951, 1.64113801])"
      ]
     },
     "execution_count": 25,
     "metadata": {},
     "output_type": "execute_result"
    }
   ],
   "source": [
    "c2"
   ]
  },
  {
   "cell_type": "code",
   "execution_count": 26,
   "id": "cda2bd97-efc5-4e1f-87d7-a08eeac3bf8e",
   "metadata": {},
   "outputs": [],
   "source": [
    "dist = [(df.iloc[i].values[0] - c2[0])**2 + (df.iloc[i].values[1] - c2[1])**2 for i in range(1,len(data))]"
   ]
  },
  {
   "cell_type": "code",
   "execution_count": 27,
   "id": "140c0253-8115-473f-b735-7caf3a6a5649",
   "metadata": {},
   "outputs": [],
   "source": [
    "tot_dist = np.sum(dist)"
   ]
  },
  {
   "cell_type": "code",
   "execution_count": 28,
   "id": "8257750c-034e-469b-bea3-acb9b3ef2280",
   "metadata": {},
   "outputs": [],
   "source": [
    "prob = dist/tot_dist"
   ]
  },
  {
   "cell_type": "code",
   "execution_count": 29,
   "id": "3a8bf779-cddd-453b-b74b-155607065e50",
   "metadata": {},
   "outputs": [],
   "source": [
    "c3 = df.iloc[np.argmax(prob)].values"
   ]
  },
  {
   "cell_type": "code",
   "execution_count": 30,
   "id": "f90dfbdd-d394-42bb-88ba-70ef7176efe2",
   "metadata": {},
   "outputs": [
    {
     "data": {
      "text/plain": [
       "array([9.24405517, 1.63074071])"
      ]
     },
     "execution_count": 30,
     "metadata": {},
     "output_type": "execute_result"
    }
   ],
   "source": [
    "c3"
   ]
  },
  {
   "cell_type": "code",
   "execution_count": null,
   "id": "1f6bb54a-5610-47ab-bb25-d3369e5513ce",
   "metadata": {},
   "outputs": [],
   "source": []
  },
  {
   "cell_type": "code",
   "execution_count": null,
   "id": "a2004026-6af6-445d-98c5-4e61a41b1d7f",
   "metadata": {},
   "outputs": [],
   "source": []
  }
 ],
 "metadata": {
  "kernelspec": {
   "display_name": "Python 3 (ipykernel)",
   "language": "python",
   "name": "python3"
  },
  "language_info": {
   "codemirror_mode": {
    "name": "ipython",
    "version": 3
   },
   "file_extension": ".py",
   "mimetype": "text/x-python",
   "name": "python",
   "nbconvert_exporter": "python",
   "pygments_lexer": "ipython3",
   "version": "3.13.5"
  },
  "widgets": {
   "application/vnd.jupyter.widget-state+json": {
    "state": {},
    "version_major": 2,
    "version_minor": 0
   }
  }
 },
 "nbformat": 4,
 "nbformat_minor": 5
}
