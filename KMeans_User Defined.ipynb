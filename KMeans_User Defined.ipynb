{
 "cells": [
  {
   "cell_type": "code",
   "execution_count": 6,
   "id": "ad82e566-1b9e-4d7a-b152-6608a3462618",
   "metadata": {},
   "outputs": [],
   "source": [
    "import numpy as np\n",
    "import pandas as pd\n",
    "import matplotlib.pyplot as plt"
   ]
  },
  {
   "cell_type": "code",
   "execution_count": 2,
   "id": "60320f83-b0b5-4e12-852c-c9573d961e16",
   "metadata": {},
   "outputs": [],
   "source": [
    "def euclidean_distance(p, q):\n",
    "    return np.sqrt(np.sum((p - q) ** 2))"
   ]
  },
  {
   "cell_type": "code",
   "execution_count": 3,
   "id": "08210ff8-5c9b-410b-9a16-7e7b7c9c390d",
   "metadata": {},
   "outputs": [],
   "source": [
    "\n",
    "def kmeans(X, k=3, max_iters=100, tol=1e-5, random_state=None):\n",
    "    \"\"\"\n",
    "    X : numpy array of shape (n_samples, n_features)\n",
    "    k : number of clusters\n",
    "    max_iters : maximum number of iterations\n",
    "    random_state : to make it random or to creat same results\n",
    "    \"\"\"\n",
    "    if random_state:\n",
    "        np.random.seed(random_state)\n",
    "\n",
    "    n_samples, n_features = X.shape\n",
    "\n",
    "    \n",
    "    random_indices = np.random.choice(n_samples, size=k, replace=False)\n",
    "    centroids = X[random_indices]\n",
    "\n",
    "    for it in range(max_iters):\n",
    "        # Assigning clusters\n",
    "        clusters = [[] for _ in range(k)]\n",
    "        for idx, point in enumerate(X):\n",
    "            # distance from each centroid\n",
    "            distances = [euclidean_distance(point, c) for c in centroids]\n",
    "            cluster_id = np.argmin(distances)\n",
    "            clusters[cluster_id].append(idx)\n",
    "\n",
    "        # Copy old centroids\n",
    "        old_centroids = centroids.copy()\n",
    "\n",
    "        # Calculate centroids again\n",
    "        for cluster_id, indices in enumerate(clusters):\n",
    "            if indices:  # To avoid empty cluster\n",
    "                centroids[cluster_id] = np.mean(X[indices], axis=0)\n",
    "\n",
    "        \n",
    "        if euclidean_distance(old_centroids, centroids)<tol:\n",
    "            break\n",
    "\n",
    "    # final cluster labels\n",
    "    labels = np.zeros(n_samples)\n",
    "    for cluster_id, indices in enumerate(clusters):\n",
    "        for idx in indices:\n",
    "            labels[idx] = cluster_id\n",
    "\n",
    "    return centroids, labels\n"
   ]
  },
  {
   "cell_type": "code",
   "execution_count": 13,
   "id": "788de048-eb44-432f-a346-d0d354dd255e",
   "metadata": {},
   "outputs": [
    {
     "name": "stdout",
     "output_type": "stream",
     "text": [
      "Centroids:\n",
      " [[8.96123512 2.05754975]\n",
      " [0.95365854 1.95472428]\n",
      " [5.48122262 8.01691143]]\n",
      "Labels: [1. 1. 1. 1. 1. 1. 1. 1. 1. 1. 1. 1. 1. 1. 1. 1. 1. 1. 1. 1. 1. 1. 1. 1.\n",
      " 1. 1. 1. 1. 1. 1. 1. 1. 1. 2. 2. 2. 2. 2. 2. 2. 2. 2. 2. 2. 2. 2. 2. 2.\n",
      " 2. 2. 2. 2. 2. 2. 2. 2. 2. 2. 2. 2. 2. 2. 2. 2. 2. 2. 0. 0. 0. 0. 0. 0.\n",
      " 0. 0. 0. 0. 0. 0. 0. 0. 0. 0. 0. 0. 0. 0. 0. 0. 0. 0. 0. 0. 0. 0. 0. 0.\n",
      " 0. 0. 0. 0.]\n"
     ]
    },
    {
     "data": {
      "image/png": "[encoded data removed]",
      "text/plain": [
       "<Figure size 640x480 with 1 Axes>"
      ]
     },
     "metadata": {},
     "output_type": "display_data"
    }
   ],
   "source": [
    "# df = np.array([\n",
    "#     [1, 2], [1.5, 1.8], [5, 8],\n",
    "#     [8, 8], [1, 0.6], [9, 11]\n",
    "# ])\n",
    "\n",
    "df = np.array(pd.read_csv('KMeansDataset.csv'))\n",
    "\n",
    "centroids, labels = kmeans(df, k=3)\n",
    "\n",
    "print(\"Centroids:\\n\", centroids)\n",
    "print(\"Labels:\", labels)\n",
    "\n",
    "# Plotting\n",
    "plt.scatter(df[:,0], df[:,1],c=labels, cmap='viridis')\n",
    "plt.scatter(centroids[:,0], centroids[:,1], s=200, c='red', marker='X')\n",
    "plt.show()"
   ]
  },
  {
   "cell_type": "code",
   "execution_count": null,
   "id": "f7bec4c5-7648-4518-bb5f-ff40ef37a385",
   "metadata": {},
   "outputs": [],
   "source": []
  }
 ],
 "metadata": {
  "kernelspec": {
   "display_name": "Python 3 (ipykernel)",
   "language": "python",
   "name": "python3"
  },
  "language_info": {
   "codemirror_mode": {
    "name": "ipython",
    "version": 3
   },
   "file_extension": ".py",
   "mimetype": "text/x-python",
   "name": "python",
   "nbconvert_exporter": "python",
   "pygments_lexer": "ipython3",
   "version": "3.12.6"
  }
 },
 "nbformat": 4,
 "nbformat_minor": 5
}
