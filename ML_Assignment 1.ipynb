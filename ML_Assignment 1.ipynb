{
 "cells": [
  {
   "cell_type": "code",
   "execution_count": 23,
   "id": "0b1a231f-7e04-4edd-87a5-04ca08ac673e",
   "metadata": {},
   "outputs": [],
   "source": [
    "import pandas as pd\n",
    "import numpy as np\n",
    "from sklearn.datasets import load_breast_cancer,load_wine\n",
    "#from sklearn.linear_model import LogisticRegression\n",
    "from sklearn.ensemble import RandomForestClassifier\n",
    "from sklearn.datasets import load_digits\n",
    "import matplotlib.pyplot as plt\n",
    "from sklearn.svm import SVC\n",
    "from sklearn.model_selection import KFold\n",
    "from sklearn.model_selection import StratifiedKFold\n",
    "from sklearn.neighbors import KNeighborsClassifier\n",
    "from sklearn.naive_bayes import GaussianNB\n",
    "#from sklearn.multiclass import OneVsRestClassifier #For handling the Multiclass Logistic Regression"
   ]
  },
  {
   "cell_type": "markdown",
   "id": "f7ffa02d-6700-4774-9ffb-27b53e340e3d",
   "metadata": {},
   "source": [
    "## Breast Cancer Dataset"
   ]
  },
  {
   "cell_type": "code",
   "execution_count": 24,
   "id": "49560540-030f-41d5-ae13-1d87983d5907",
   "metadata": {},
   "outputs": [],
   "source": [
    "data = load_breast_cancer()"
   ]
  },
  {
   "cell_type": "code",
   "execution_count": 25,
   "id": "cec60c90-24bf-4a75-8d8a-09698513264e",
   "metadata": {},
   "outputs": [
    {
     "name": "stdout",
     "output_type": "stream",
     "text": [
      "   mean radius  mean texture  mean perimeter  mean area  mean smoothness  \\\n",
      "0        17.99         10.38          122.80     1001.0          0.11840   \n",
      "1        20.57         17.77          132.90     1326.0          0.08474   \n",
      "2        19.69         21.25          130.00     1203.0          0.10960   \n",
      "3        11.42         20.38           77.58      386.1          0.14250   \n",
      "4        20.29         14.34          135.10     1297.0          0.10030   \n",
      "\n",
      "   mean compactness  mean concavity  mean concave points  mean symmetry  \\\n",
      "0           0.27760          0.3001              0.14710         0.2419   \n",
      "1           0.07864          0.0869              0.07017         0.1812   \n",
      "2           0.15990          0.1974              0.12790         0.2069   \n",
      "3           0.28390          0.2414              0.10520         0.2597   \n",
      "4           0.13280          0.1980              0.10430         0.1809   \n",
      "\n",
      "   mean fractal dimension  ...  worst texture  worst perimeter  worst area  \\\n",
      "0                 0.07871  ...          17.33           184.60      2019.0   \n",
      "1                 0.05667  ...          23.41           158.80      1956.0   \n",
      "2                 0.05999  ...          25.53           152.50      1709.0   \n",
      "3                 0.09744  ...          26.50            98.87       567.7   \n",
      "4                 0.05883  ...          16.67           152.20      1575.0   \n",
      "\n",
      "   worst smoothness  worst compactness  worst concavity  worst concave points  \\\n",
      "0            0.1622             0.6656           0.7119                0.2654   \n",
      "1            0.1238             0.1866           0.2416                0.1860   \n",
      "2            0.1444             0.4245           0.4504                0.2430   \n",
      "3            0.2098             0.8663           0.6869                0.2575   \n",
      "4            0.1374             0.2050           0.4000                0.1625   \n",
      "\n",
      "   worst symmetry  worst fractal dimension  target  \n",
      "0          0.4601                  0.11890       0  \n",
      "1          0.2750                  0.08902       0  \n",
      "2          0.3613                  0.08758       0  \n",
      "3          0.6638                  0.17300       0  \n",
      "4          0.2364                  0.07678       0  \n",
      "\n",
      "[5 rows x 31 columns]\n"
     ]
    },
    {
     "data": {
      "text/plain": [
       "(569, 31)"
      ]
     },
     "execution_count": 25,
     "metadata": {},
     "output_type": "execute_result"
    }
   ],
   "source": [
    "\n",
    "df = pd.DataFrame(data.data, columns=data.feature_names)\n",
    "df['target'] = data.target\n",
    "\n",
    "\n",
    "print(df.head())\n",
    "df.shape"
   ]
  },
  {
   "cell_type": "code",
   "execution_count": 26,
   "id": "bc8b513e-c79b-408c-b0ee-1386910adf2e",
   "metadata": {},
   "outputs": [
    {
     "data": {
      "text/plain": [
       "(target\n",
       " 1    357\n",
       " 0    212\n",
       " Name: count, dtype: int64,\n",
       " array(['malignant', 'benign'], dtype='<U9'))"
      ]
     },
     "execution_count": 26,
     "metadata": {},
     "output_type": "execute_result"
    }
   ],
   "source": [
    "df['target'].value_counts(),data.target_names"
   ]
  },
  {
   "cell_type": "markdown",
   "id": "12aeea6f-f005-4f1f-89fb-4230d306ee05",
   "metadata": {},
   "source": [
    "<b> There are two types of classes</b> namely 0: benign and 1: malignant"
   ]
  },
  {
   "cell_type": "code",
   "execution_count": null,
   "id": "c9137a6f-063e-486b-a9ba-be123e023e82",
   "metadata": {
    "scrolled": true
   },
   "outputs": [],
   "source": []
  },
  {
   "cell_type": "code",
   "execution_count": 27,
   "id": "4d892a9f-c17b-4f6d-a798-1980e07ffb89",
   "metadata": {},
   "outputs": [],
   "source": [
    "kf = KFold(n_splits=5)"
   ]
  },
  {
   "cell_type": "code",
   "execution_count": 28,
   "id": "b9baf3e3-6ec2-4ad0-99d9-3eabf71fed8e",
   "metadata": {},
   "outputs": [
    {
     "name": "stdout",
     "output_type": "stream",
     "text": [
      "The total numbers of rows are: 569\n",
      "(455,) (114,)\n",
      "(455,) (114,)\n",
      "(455,) (114,)\n",
      "(455,) (114,)\n",
      "(456,) (113,)\n"
     ]
    }
   ],
   "source": [
    "print(f\"The total numbers of rows are: {df.shape[0]}\")\n",
    "for train_index, test_index in kf.split(df[data.feature_names],df['target']):\n",
    "    print(train_index.shape,test_index.shape)"
   ]
  },
  {
   "cell_type": "code",
   "execution_count": 29,
   "id": "62620914-c65e-449b-8df5-a42020ae4fa7",
   "metadata": {},
   "outputs": [],
   "source": [
    "def get_score(model, X_train, X_test, y_train, y_test):\n",
    "    model.fit(X_train, y_train)\n",
    "    return model.score(X_test, y_test)"
   ]
  },
  {
   "cell_type": "code",
   "execution_count": null,
   "id": "f72b0125-8006-4588-9c78-ebab3d84164a",
   "metadata": {},
   "outputs": [],
   "source": []
  },
  {
   "cell_type": "code",
   "execution_count": 30,
   "id": "eb4811e3-c180-4755-9877-201132b54a43",
   "metadata": {},
   "outputs": [],
   "source": [
    "scores_knn_kfold = []\n",
    "scores_svm_kfold = []\n",
    "scores_rf_kfold = []\n",
    "scores_nb_kfold = []\n",
    "for train_index, test_index in kf.split(df[data.feature_names],df['target']):\n",
    "    X_train, X_test, y_train, y_test = data.data[train_index], data.data[test_index], \\\n",
    "                                       data.target[train_index], data.target[test_index]\n",
    "    scores_knn_kfold.append(get_score(KNeighborsClassifier(n_neighbors=3), X_train, X_test, y_train, y_test))\n",
    "    scores_svm_kfold.append(get_score(SVC(gamma='auto'), X_train, X_test, y_train, y_test))\n",
    "    scores_rf_kfold.append(get_score(RandomForestClassifier(n_estimators=40), X_train, X_test, y_train, y_test))\n",
    "    scores_nb_kfold.append(get_score(GaussianNB(), X_train, X_test, y_train, y_test))"
   ]
  },
  {
   "cell_type": "code",
   "execution_count": 32,
   "id": "68f9f35a-0ed9-43cc-a26a-d3c549e7ff05",
   "metadata": {},
   "outputs": [
    {
     "name": "stdout",
     "output_type": "stream",
     "text": [
      "K_Fold\n",
      "Scores of KNN  0.9209284272628473\n",
      "Scores of SVM 0.6276665114112715\n",
      "Scores of Random Forest 0.952585002328831\n",
      "Scores of  Naive Bayes 0.9367644775655954\n"
     ]
    }
   ],
   "source": [
    "print(\"K_Fold\")\n",
    "print(f\"Scores of KNN  {sum(scores_knn_kfold)/5}\")\n",
    "print(f\"Scores of SVM {sum(scores_svm_kfold)/5}\")\n",
    "print(f\"Scores of Random Forest {sum(scores_rf_kfold)/5}\")\n",
    "print(f\"Scores of  Naive Bayes {sum(scores_nb_kfold)/5}\")"
   ]
  },
  {
   "cell_type": "code",
   "execution_count": 33,
   "id": "d66d3c5a-9c34-42af-8339-ef3c94a01ddf",
   "metadata": {},
   "outputs": [],
   "source": [
    "folds = StratifiedKFold(n_splits=5)"
   ]
  },
  {
   "cell_type": "code",
   "execution_count": 34,
   "id": "36c53689-9449-4c77-83a7-5d1b5aef48bc",
   "metadata": {},
   "outputs": [],
   "source": [
    "scores_knn_sfold = []\n",
    "scores_svm_sfold = []\n",
    "scores_rf_sfold = []\n",
    "scores_nb_sfold = []\n",
    "\n",
    "for train_index, test_index in kf.split(df[data.feature_names],df['target']):\n",
    "    X_train, X_test, y_train, y_test = data.data[train_index], data.data[test_index], \\\n",
    "                                       data.target[train_index], data.target[test_index]\n",
    "    scores_knn_sfold.append(get_score(KNeighborsClassifier(n_neighbors=3), X_train, X_test, y_train, y_test))\n",
    "    scores_svm_sfold.append(get_score(SVC(gamma='auto'), X_train, X_test, y_train, y_test))\n",
    "    scores_rf_sfold.append(get_score(RandomForestClassifier(n_estimators=40), X_train, X_test, y_train, y_test))\n",
    "    scores_nb_sfold.append(get_score(GaussianNB(), X_train, X_test, y_train, y_test))"
   ]
  },
  {
   "cell_type": "code",
   "execution_count": 35,
   "id": "c2a55172-5470-4daf-b722-0f8eee9bff4f",
   "metadata": {},
   "outputs": [
    {
     "name": "stdout",
     "output_type": "stream",
     "text": [
      "Stratified K_Fold\n",
      "Scores of KNN  0.9209284272628473\n",
      "Scores of SVM 0.6276665114112715\n",
      "Scores of Random Forest 0.9543549138332557\n",
      "Scores of  Naive Bayes 0.9367644775655954\n"
     ]
    }
   ],
   "source": [
    "print(\"Stratified K_Fold\")\n",
    "print(f\"Scores of KNN  {sum(scores_knn_sfold)/5}\")\n",
    "print(f\"Scores of SVM {sum(scores_svm_sfold)/5}\")\n",
    "print(f\"Scores of Random Forest {sum(scores_rf_sfold)/5}\")\n",
    "print(f\"Scores of  Naive Bayes {sum(scores_nb_sfold)/5}\")"
   ]
  },
  {
   "cell_type": "markdown",
   "id": "7620b74e-2143-411c-982e-d0ae9318b7bc",
   "metadata": {},
   "source": [
    "* Here we see that the <b>Random Forest Classifier</b> is giving the best result for both <b>K-Fold </b> and <b>Stratified K-Fold</b> for <b>5</b> splits"
   ]
  },
  {
   "cell_type": "markdown",
   "id": "66d51d48-ee5c-4c83-aa98-8e4aa98e1668",
   "metadata": {},
   "source": [
    "## Wine Dataset"
   ]
  },
  {
   "cell_type": "code",
   "execution_count": 13,
   "id": "c86187c8-47b1-468e-8cb6-ecf8ba6c3a0b",
   "metadata": {},
   "outputs": [],
   "source": [
    "data1= load_wine()"
   ]
  },
  {
   "cell_type": "code",
   "execution_count": 14,
   "id": "f0740728-b918-426e-b9bb-6f07ea620f08",
   "metadata": {},
   "outputs": [
    {
     "name": "stdout",
     "output_type": "stream",
     "text": [
      "   alcohol  malic_acid   ash  alcalinity_of_ash  magnesium  total_phenols  \\\n",
      "0    14.23        1.71  2.43               15.6      127.0           2.80   \n",
      "1    13.20        1.78  2.14               11.2      100.0           2.65   \n",
      "2    13.16        2.36  2.67               18.6      101.0           2.80   \n",
      "3    14.37        1.95  2.50               16.8      113.0           3.85   \n",
      "4    13.24        2.59  2.87               21.0      118.0           2.80   \n",
      "\n",
      "   flavanoids  nonflavanoid_phenols  proanthocyanins  color_intensity   hue  \\\n",
      "0        3.06                  0.28             2.29             5.64  1.04   \n",
      "1        2.76                  0.26             1.28             4.38  1.05   \n",
      "2        3.24                  0.30             2.81             5.68  1.03   \n",
      "3        3.49                  0.24             2.18             7.80  0.86   \n",
      "4        2.69                  0.39             1.82             4.32  1.04   \n",
      "\n",
      "   od280/od315_of_diluted_wines  proline  target  \n",
      "0                          3.92   1065.0       0  \n",
      "1                          3.40   1050.0       0  \n",
      "2                          3.17   1185.0       0  \n",
      "3                          3.45   1480.0       0  \n",
      "4                          2.93    735.0       0  \n"
     ]
    }
   ],
   "source": [
    "df1 = pd.DataFrame(data1.data,columns=data1.feature_names)\n",
    "df1['target'] = data1.target\n",
    "print(df1.head())"
   ]
  },
  {
   "cell_type": "code",
   "execution_count": 15,
   "id": "ab1514f5-1924-4122-b649-37ea95a307af",
   "metadata": {},
   "outputs": [
    {
     "data": {
      "text/plain": [
       "(target\n",
       " 1    71\n",
       " 0    59\n",
       " 2    48\n",
       " Name: count, dtype: int64,\n",
       " array(['class_0', 'class_1', 'class_2'], dtype='<U7'))"
      ]
     },
     "execution_count": 15,
     "metadata": {},
     "output_type": "execute_result"
    }
   ],
   "source": [
    "df1['target'].value_counts(),data1.target_names"
   ]
  },
  {
   "cell_type": "markdown",
   "id": "21673312-89fa-449c-9a6d-d40ad26c0ccb",
   "metadata": {},
   "source": [
    "<b>There are 3 classes</b> namely <b>0: class_0</b> , <b>1: class_1 </b> and <b>2: class_2</b>"
   ]
  },
  {
   "cell_type": "code",
   "execution_count": 16,
   "id": "6f624ac1-167b-4440-83ad-e92680c0bcd9",
   "metadata": {},
   "outputs": [],
   "source": [
    "kf = KFold(n_splits=5)"
   ]
  },
  {
   "cell_type": "code",
   "execution_count": 17,
   "id": "4793e927-d958-4017-8bcf-7de5d7c15592",
   "metadata": {},
   "outputs": [
    {
     "name": "stdout",
     "output_type": "stream",
     "text": [
      "The total number of rows are: 178\n",
      "The train and test shape is: ((142,), (36,))\n",
      "The train and test shape is: ((142,), (36,))\n",
      "The train and test shape is: ((142,), (36,))\n",
      "The train and test shape is: ((143,), (35,))\n",
      "The train and test shape is: ((143,), (35,))\n"
     ]
    }
   ],
   "source": [
    "print(f\"The total number of rows are: {df1.shape[0]}\")\n",
    "for train_index,test_index in kf.split(data1.data,data1.target):\n",
    "    print(f\"The train and test shape is: {train_index.shape,test_index.shape}\")"
   ]
  },
  {
   "cell_type": "code",
   "execution_count": 18,
   "id": "ff72b067-ae3b-4f6a-a5b6-ccd16d4c373e",
   "metadata": {},
   "outputs": [],
   "source": [
    "scores_knn_kfold = []\n",
    "scores_svm_kfold = []\n",
    "scores_rf_kfold = []\n",
    "scores_nb_kfold = []\n",
    "\n",
    "for train_index,test_index in kf.split(data1.data,data1.target):\n",
    "    X_train,X_test,y_train,y_test = data1.data[train_index],data1.data[test_index],\\\n",
    "                                    data1.target[train_index],data1.target[test_index]\n",
    "    scores_knn_kfold.append(get_score(KNeighborsClassifier(n_neighbors=5), X_train, X_test, y_train, y_test))\n",
    "    scores_svm_kfold.append(get_score(SVC(gamma='auto'), X_train, X_test, y_train, y_test))\n",
    "    scores_rf_kfold.append(get_score(RandomForestClassifier(n_estimators=40), X_train, X_test, y_train, y_test))\n",
    "    scores_nb_kfold.append(get_score(GaussianNB(), X_train, X_test, y_train, y_test))"
   ]
  },
  {
   "cell_type": "code",
   "execution_count": 19,
   "id": "4e6301fc-d30c-4215-9381-759941620663",
   "metadata": {},
   "outputs": [
    {
     "name": "stdout",
     "output_type": "stream",
     "text": [
      "K_Fold\n",
      "Scores of KNN  0.6100000000000001\n",
      "Scores of SVM 0.10603174603174603\n",
      "Scores of Random Forest 0.9441269841269841\n",
      "Scores of  Naive Bayes 0.9326984126984126\n"
     ]
    }
   ],
   "source": [
    "print(\"K_Fold\")\n",
    "print(f\"Scores of KNN  {sum(scores_knn_kfold)/5}\")\n",
    "print(f\"Scores of SVM {sum(scores_svm_kfold)/5}\")\n",
    "print(f\"Scores of Random Forest {sum(scores_rf_kfold)/5}\")\n",
    "print(f\"Scores of  Naive Bayes {sum(scores_nb_kfold)/5}\")"
   ]
  },
  {
   "cell_type": "code",
   "execution_count": null,
   "id": "667689b3-e925-4c1a-9aa3-c6efd0b84911",
   "metadata": {},
   "outputs": [],
   "source": []
  },
  {
   "cell_type": "code",
   "execution_count": 20,
   "id": "c432efef-962a-4052-b889-fbd9e99fef1d",
   "metadata": {},
   "outputs": [],
   "source": [
    "folds = StratifiedKFold(n_splits=5)"
   ]
  },
  {
   "cell_type": "code",
   "execution_count": 21,
   "id": "ed39a52f-cd74-478c-835c-24384ade8f20",
   "metadata": {},
   "outputs": [],
   "source": [
    "scores_knn_sfold = []\n",
    "scores_svm_sfold = []\n",
    "scores_rf_sfold = []\n",
    "scores_nb_sfold = []\n",
    "\n",
    "for train_index,test_index in folds.split(data1.data,data1.target):\n",
    "    X_train,X_test,y_train,y_test = data1.data[train_index],data1.data[test_index],\\\n",
    "                                    data1.target[train_index],data1.target[test_index]\n",
    "    scores_knn_sfold.append(get_score(KNeighborsClassifier(n_neighbors=5), X_train, X_test, y_train, y_test))\n",
    "    scores_svm_sfold.append(get_score(SVC(gamma='auto'), X_train, X_test, y_train, y_test))\n",
    "    scores_rf_sfold.append(get_score(RandomForestClassifier(n_estimators=40), X_train, X_test, y_train, y_test))\n",
    "    scores_nb_sfold.append(get_score(GaussianNB(), X_train, X_test, y_train, y_test))"
   ]
  },
  {
   "cell_type": "code",
   "execution_count": 22,
   "id": "02a0e7fc-9d8b-4f5f-be4a-307d4c4a3aca",
   "metadata": {},
   "outputs": [
    {
     "name": "stdout",
     "output_type": "stream",
     "text": [
      "Stratified K_Fold\n",
      "Scores of KNN  0.6912698412698413\n",
      "Scores of SVM 0.4273015873015873\n",
      "Scores of Random Forest 0.9722222222222221\n",
      "Scores of  Naive Bayes 0.9663492063492063\n"
     ]
    }
   ],
   "source": [
    "print(\"Stratified K_Fold\")\n",
    "print(f\"Scores of KNN  {sum(scores_knn_sfold)/5}\")\n",
    "print(f\"Scores of SVM {sum(scores_svm_sfold)/5}\")\n",
    "print(f\"Scores of Random Forest {sum(scores_rf_sfold)/5}\")\n",
    "print(f\"Scores of  Naive Bayes {sum(scores_nb_sfold)/5}\")"
   ]
  },
  {
   "cell_type": "markdown",
   "id": "65148eb8-5803-477f-a4ea-16bffb948f6b",
   "metadata": {},
   "source": [
    "* Here we see that the <b>Naive Bayes</b> is giving the best result for  <b>K-Fold </b> and <b>Random Forest</b> is giving the best result for <b>Stratified K-Fold</b> for <b>5</b> splits"
   ]
  },
  {
   "cell_type": "code",
   "execution_count": null,
   "id": "3e9063d3-6dd0-415b-b7a4-71fdc4f17073",
   "metadata": {},
   "outputs": [],
   "source": []
  }
 ],
 "metadata": {
  "kernelspec": {
   "display_name": "Python 3 (ipykernel)",
   "language": "python",
   "name": "python3"
  },
  "language_info": {
   "codemirror_mode": {
    "name": "ipython",
    "version": 3
   },
   "file_extension": ".py",
   "mimetype": "text/x-python",
   "name": "python",
   "nbconvert_exporter": "python",
   "pygments_lexer": "ipython3",
   "version": "3.13.5"
  }
 },
 "nbformat": 4,
 "nbformat_minor": 5
}
