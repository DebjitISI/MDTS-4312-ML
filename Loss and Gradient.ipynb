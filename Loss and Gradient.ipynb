{
 "cells": [
  {
   "cell_type": "code",
   "execution_count": 1,
   "id": "f591568b",
   "metadata": {},
   "outputs": [
    {
     "name": "stdout",
     "output_type": "stream",
     "text": [
      "4.947500000000001\n"
     ]
    }
   ],
   "source": [
    "def rss(a,b,I,s):\n",
    "    return sum((a[i] - (s * b[i] + I)) ** 2 for i in range(len(b)))\n",
    "\n",
    "w = [0.5,2.3,2.9]\n",
    "h = [1.4,1.9,3.2]\n",
    "s =rss(h, w, 0, 0.5)\n",
    "print(s)"
   ]
  },
  {
   "cell_type": "code",
   "execution_count": 3,
   "id": "5bfaad90",
   "metadata": {},
   "outputs": [
    {
     "name": "stdout",
     "output_type": "stream",
     "text": [
      "-7.300000000000001\n"
     ]
    }
   ],
   "source": [
    "def grad(a,b,I,s):\n",
    "    return -2*sum( a[i] -(I + s*b[i]) for i in range(len(b)))\n",
    "\n",
    "gr = grad(h, w, 0, 0.5)\n",
    "print(gr)"
   ]
  },
  {
   "cell_type": "code",
   "execution_count": 4,
   "id": "5b126fd7",
   "metadata": {},
   "outputs": [
    {
     "name": "stdout",
     "output_type": "stream",
     "text": [
      "0.7300000000000001\n"
     ]
    }
   ],
   "source": [
    "new_i = 0 - 0.1 * gr\n",
    "print(new_i)"
   ]
  },
  {
   "cell_type": "code",
   "execution_count": 5,
   "id": "26b254b2",
   "metadata": {},
   "outputs": [
    {
     "name": "stdout",
     "output_type": "stream",
     "text": [
      "New I: 0.7300000000000001, New RSS: 1.2171999999999998\n",
      "New I: 1.4600000000000002, New RSS: 0.6843000000000008\n",
      "No improvement found.\n"
     ]
    }
   ],
   "source": [
    "while True:\n",
    "    new_s = rss(h, w, new_i, 0.5)\n",
    "    if new_s < s:\n",
    "        s = new_s\n",
    "        print(f\"New I: {new_i}, New RSS: {s}\")\n",
    "    else:\n",
    "        print(\"No improvement found.\")\n",
    "        break\n",
    "    new_i -= 0.1 * gr\n",
    "\n"
   ]
  },
  {
   "cell_type": "code",
   "execution_count": null,
   "id": "4398548f-c297-4009-b6ac-94403ad3c06c",
   "metadata": {},
   "outputs": [],
   "source": []
  },
  {
   "cell_type": "code",
   "execution_count": 1,
   "id": "68b8e536-4a43-4ef6-a66a-1a26ed7dd568",
   "metadata": {},
   "outputs": [
    {
     "ename": "_IncompleteInputError",
     "evalue": "incomplete input (2644795979.py, line 1)",
     "output_type": "error",
     "traceback": [
      "  \u001b[36mCell\u001b[39m\u001b[36m \u001b[39m\u001b[32mIn[1]\u001b[39m\u001b[32m, line 1\u001b[39m\n\u001b[31m    \u001b[39m\u001b[31mdef cost():\u001b[39m\n               ^\n\u001b[31m_IncompleteInputError\u001b[39m\u001b[31m:\u001b[39m incomplete input\n"
     ]
    }
   ],
   "source": [
    "def cost():\n",
    "    "
   ]
  },
  {
   "cell_type": "code",
   "execution_count": null,
   "id": "44b85dd4-c20b-4052-932c-9822e8ec396d",
   "metadata": {},
   "outputs": [],
   "source": [
    "def gradient_descent():\n",
    "    "
   ]
  },
  {
   "cell_type": "code",
   "execution_count": null,
   "id": "5d8fd379-ff3a-4780-b45d-7fc28490acc3",
   "metadata": {},
   "outputs": [],
   "source": []
  },
  {
   "cell_type": "code",
   "execution_count": null,
   "id": "790cddf5-2f94-4911-9419-1458033bf7d4",
   "metadata": {},
   "outputs": [],
   "source": []
  },
  {
   "cell_type": "code",
   "execution_count": null,
   "id": "f8e4900b-18e0-4826-9125-6f32d0b5b5c1",
   "metadata": {},
   "outputs": [],
   "source": []
  },
  {
   "cell_type": "code",
   "execution_count": null,
   "id": "eccadd7e-9e0b-4163-a4eb-cf067708edeb",
   "metadata": {},
   "outputs": [],
   "source": []
  },
  {
   "cell_type": "code",
   "execution_count": null,
   "id": "0160b7e6-05de-436a-84e1-87a8b742c67a",
   "metadata": {},
   "outputs": [],
   "source": []
  },
  {
   "cell_type": "code",
   "execution_count": null,
   "id": "d42e8832-23cd-467b-81e2-cdddc9345fee",
   "metadata": {},
   "outputs": [],
   "source": []
  },
  {
   "cell_type": "code",
   "execution_count": null,
   "id": "722b9ff0-b358-4c11-bcd4-7bc395dac2e4",
   "metadata": {},
   "outputs": [],
   "source": []
  },
  {
   "cell_type": "code",
   "execution_count": null,
   "id": "14b4b0c5-2964-4328-86cc-b6d5986dcb73",
   "metadata": {},
   "outputs": [],
   "source": []
  }
 ],
 "metadata": {
  "kernelspec": {
   "display_name": "Python 3 (ipykernel)",
   "language": "python",
   "name": "python3"
  },
  "language_info": {
   "codemirror_mode": {
    "name": "ipython",
    "version": 3
   },
   "file_extension": ".py",
   "mimetype": "text/x-python",
   "name": "python",
   "nbconvert_exporter": "python",
   "pygments_lexer": "ipython3",
   "version": "3.13.5"
  }
 },
 "nbformat": 4,
 "nbformat_minor": 5
}
